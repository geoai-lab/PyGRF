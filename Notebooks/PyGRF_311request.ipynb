{
 "cells": [
  {
   "cell_type": "code",
   "execution_count": 1,
   "id": "3999ed22-53b9-4e85-a1de-4c6614e3c666",
   "metadata": {},
   "outputs": [],
   "source": [
    "# Packages\n",
    "import pandas as pd\n",
    "from sklearn.model_selection import train_test_split, KFold\n",
    "from sklearn.metrics import mean_squared_error, r2_score\n",
    "\n",
    "import PyGRF"
   ]
  },
  {
   "cell_type": "markdown",
   "id": "36effa2f-6d86-4f92-91b5-5bbd86ae7fa3",
   "metadata": {},
   "source": [
    "### Read data and split into training and test sets"
   ]
  },
  {
   "cell_type": "code",
   "execution_count": 2,
   "id": "7257e1c3-f16b-4efe-8667-dc38ab10d8b4",
   "metadata": {},
   "outputs": [],
   "source": [
    "data_311 = pd.read_csv(\"../Data/311Request.csv\")\n",
    "y = data_311[[\"CBG ID\", \"311_requests\"]]\n",
    "X_train, X_test, y_train, y_test = train_test_split(data_311, y, test_size=0.3, random_state=42)"
   ]
  },
  {
   "cell_type": "markdown",
   "id": "b022547f-422a-49f0-a2fb-d7785a8a87cc",
   "metadata": {},
   "source": [
    "### Search the optimal bandwidth and local model weight using incremental spatial autocorrelation"
   ]
  },
  {
   "cell_type": "code",
   "execution_count": 3,
   "id": "98450159-da77-44f7-9b9e-51562e1b3f3d",
   "metadata": {},
   "outputs": [
    {
     "name": "stderr",
     "output_type": "stream",
     "text": [
      "C:\\software\\anaconda3\\envs\\Test\\lib\\site-packages\\PyGRF\\PyGRF.py:343: SettingWithCopyWarning: \n",
      "A value is trying to be set on a copy of a slice from a DataFrame.\n",
      "Try using .loc[row_indexer,col_indexer] = value instead\n",
      "\n",
      "See the caveats in the documentation: https://pandas.pydata.org/pandas-docs/stable/user_guide/indexing.html#returning-a-view-versus-a-copy\n",
      "  coords['coordinate'] = coords.apply(lambda row: tuple(row), axis=1)\n",
      "C:\\software\\anaconda3\\envs\\Test\\lib\\site-packages\\libpysal\\weights\\weights.py:224: UserWarning: The weights matrix is not fully connected: \n",
      " There are 59 disconnected components.\n",
      "  warnings.warn(message)\n"
     ]
    },
    {
     "name": "stdout",
     "output_type": "stream",
     "text": [
      "bandwidth: 131, moran's I: 0.04443162328339294, p-value: 5.56700472691986e-35\n"
     ]
    },
    {
     "name": "stderr",
     "output_type": "stream",
     "text": [
      "C:\\software\\anaconda3\\envs\\Test\\lib\\site-packages\\esda\\moran.py:233: RuntimeWarning: invalid value encountered in scalar power\n",
      "  self.seI_rand = VIR ** (1 / 2.0)\n"
     ]
    }
   ],
   "source": [
    "bandwidth, local_weight, p_value = PyGRF.search_bw_lw_ISA(X_train[\"311_requests\"], X_train[['Lon', 'Lat']])"
   ]
  },
  {
   "cell_type": "markdown",
   "id": "a23e0c42-4ae5-4a70-8a9c-9d89e94b90da",
   "metadata": {},
   "source": [
    "### Evaluate performance of PyGRF using 10-fold cross validation"
   ]
  },
  {
   "cell_type": "code",
   "execution_count": 4,
   "id": "aef363ae-601d-4099-a4f4-43252be4cedd",
   "metadata": {},
   "outputs": [],
   "source": [
    "# function for standarizing independent variables\n",
    "def standarize_data(data, stats):\n",
    "    return (data - stats['mean']) / stats['std']"
   ]
  },
  {
   "cell_type": "code",
   "execution_count": 5,
   "id": "6dae015d-1e7f-4368-87af-ec9f0b9fd6f6",
   "metadata": {},
   "outputs": [],
   "source": [
    "# get columns for only dependent variables\n",
    "columns_to_exclude = ['CBG ID', 'Lon', 'Lat', '311_requests']\n",
    "X_columns = [column for column in data_311.columns if column not in columns_to_exclude]\n",
    "\n",
    "y_predict = []\n",
    "y_true = []\n",
    "df_feature_importance = pd.DataFrame()\n",
    "\n",
    "K_fold = KFold(n_splits=10, shuffle=True, random_state=42)\n",
    "for train_index, test_index in K_fold.split(data_311):\n",
    "    # get the training and test data in each fold\n",
    "    X_train_all, X_test_all = data_311.iloc[train_index], data_311.iloc[test_index]\n",
    "    y_train, y_test = X_train_all['311_requests'], X_test_all['311_requests']\n",
    "    X_train = X_train_all[X_columns]\n",
    "    X_test = X_test_all[X_columns]\n",
    "    xy_coord = X_train_all[['Lon', 'Lat']]\n",
    "    coords_test = X_test_all[['Lon', 'Lat']]\n",
    "\n",
    "    # standarize independent variables\n",
    "    training_stat = X_train.describe().transpose()\n",
    "    X_scaled_train = standarize_data(X_train, training_stat)\n",
    "    X_scaled_test = standarize_data(X_test, training_stat)\n",
    "\n",
    "    # create a PyGRF model\n",
    "    pygrf_311 = PyGRF.PyGRFBuilder(n_estimators=60, max_features=1/3, band_width=131, train_weighted=True, predict_weighted=True, bootstrap=False,\n",
    "                          resampled=True, random_seed=42)\n",
    "\n",
    "    # fit the model and use it to make predictions\n",
    "    pygrf_311.fit(X_scaled_train, y_train, xy_coord)\n",
    "    predict_combined, predict_global, predict_local = pygrf_311.predict(X_scaled_test, coords_test, local_weight=0.0444)\n",
    "\n",
    "    # get the feature importance output by local models\n",
    "    local_feature_importance = pygrf_311.get_local_feature_importance()\n",
    "    df_feature_importance = pd.concat([df_feature_importance, local_feature_importance])\n",
    "\n",
    "    y_predict = y_predict + predict_combined\n",
    "    y_true = y_true + y_test.tolist()"
   ]
  },
  {
   "cell_type": "code",
   "execution_count": 6,
   "id": "c21581cc-8cfe-44de-9808-d9059e575aa4",
   "metadata": {},
   "outputs": [
    {
     "name": "stdout",
     "output_type": "stream",
     "text": [
      "rmse: 15.4855 r2: 0.4205\n"
     ]
    }
   ],
   "source": [
    "# compute the RMSE and r-square\n",
    "rmse = mean_squared_error(y_true, y_predict, squared=False)\n",
    "r2 = r2_score(y_true, y_predict)\n",
    "print(\"rmse: \" + str(round(rmse, 4)), \"r2: \" + str(round(r2, 4)))"
   ]
  },
  {
   "cell_type": "code",
   "execution_count": 7,
   "id": "ad46377b-68e9-401c-b898-2b8ecb0f85f4",
   "metadata": {},
   "outputs": [
    {
     "name": "stdout",
     "output_type": "stream",
     "text": [
      "(2610, 19)\n"
     ]
    },
    {
     "data": {
      "text/html": [
       "<div>\n",
       "<style scoped>\n",
       "    .dataframe tbody tr th:only-of-type {\n",
       "        vertical-align: middle;\n",
       "    }\n",
       "\n",
       "    .dataframe tbody tr th {\n",
       "        vertical-align: top;\n",
       "    }\n",
       "\n",
       "    .dataframe thead th {\n",
       "        text-align: right;\n",
       "    }\n",
       "</style>\n",
       "<table border=\"1\" class=\"dataframe\">\n",
       "  <thead>\n",
       "    <tr style=\"text-align: right;\">\n",
       "      <th></th>\n",
       "      <th>model_index</th>\n",
       "      <th>snow depth</th>\n",
       "      <th>% below poverty</th>\n",
       "      <th>% civilian unemployed</th>\n",
       "      <th>% capita income</th>\n",
       "      <th>% no high school</th>\n",
       "      <th>% 65 older</th>\n",
       "      <th>% 17 younger</th>\n",
       "      <th>% household disability</th>\n",
       "      <th>% single parent household</th>\n",
       "      <th>% minority</th>\n",
       "      <th>% not well english</th>\n",
       "      <th>% multi unit</th>\n",
       "      <th>% mobile homes</th>\n",
       "      <th>% crowding</th>\n",
       "      <th>% no vehicle</th>\n",
       "      <th>% group quarters</th>\n",
       "      <th>historical requests</th>\n",
       "      <th>neighbor historical request</th>\n",
       "    </tr>\n",
       "  </thead>\n",
       "  <tbody>\n",
       "    <tr>\n",
       "      <th>0</th>\n",
       "      <td>0</td>\n",
       "      <td>0.024639</td>\n",
       "      <td>0.013803</td>\n",
       "      <td>0.051702</td>\n",
       "      <td>0.013589</td>\n",
       "      <td>0.031262</td>\n",
       "      <td>0.021775</td>\n",
       "      <td>0.025230</td>\n",
       "      <td>0.035325</td>\n",
       "      <td>0.013596</td>\n",
       "      <td>0.011449</td>\n",
       "      <td>0.005840</td>\n",
       "      <td>0.003662</td>\n",
       "      <td>0.244129</td>\n",
       "      <td>0.003041</td>\n",
       "      <td>0.020844</td>\n",
       "      <td>0.004406</td>\n",
       "      <td>0.281611</td>\n",
       "      <td>0.194095</td>\n",
       "    </tr>\n",
       "    <tr>\n",
       "      <th>1</th>\n",
       "      <td>1</td>\n",
       "      <td>0.028372</td>\n",
       "      <td>0.012235</td>\n",
       "      <td>0.054203</td>\n",
       "      <td>0.037277</td>\n",
       "      <td>0.015287</td>\n",
       "      <td>0.033815</td>\n",
       "      <td>0.024023</td>\n",
       "      <td>0.028019</td>\n",
       "      <td>0.007463</td>\n",
       "      <td>0.017211</td>\n",
       "      <td>0.007487</td>\n",
       "      <td>0.006333</td>\n",
       "      <td>0.130940</td>\n",
       "      <td>0.011391</td>\n",
       "      <td>0.019245</td>\n",
       "      <td>0.005361</td>\n",
       "      <td>0.306600</td>\n",
       "      <td>0.254736</td>\n",
       "    </tr>\n",
       "    <tr>\n",
       "      <th>2</th>\n",
       "      <td>2</td>\n",
       "      <td>0.021804</td>\n",
       "      <td>0.022529</td>\n",
       "      <td>0.042661</td>\n",
       "      <td>0.023111</td>\n",
       "      <td>0.028895</td>\n",
       "      <td>0.022575</td>\n",
       "      <td>0.030884</td>\n",
       "      <td>0.018162</td>\n",
       "      <td>0.013939</td>\n",
       "      <td>0.013383</td>\n",
       "      <td>0.006626</td>\n",
       "      <td>0.004036</td>\n",
       "      <td>0.116180</td>\n",
       "      <td>0.006657</td>\n",
       "      <td>0.009674</td>\n",
       "      <td>0.004737</td>\n",
       "      <td>0.348129</td>\n",
       "      <td>0.266018</td>\n",
       "    </tr>\n",
       "    <tr>\n",
       "      <th>3</th>\n",
       "      <td>3</td>\n",
       "      <td>0.033417</td>\n",
       "      <td>0.018874</td>\n",
       "      <td>0.042560</td>\n",
       "      <td>0.056637</td>\n",
       "      <td>0.025085</td>\n",
       "      <td>0.025075</td>\n",
       "      <td>0.022026</td>\n",
       "      <td>0.018858</td>\n",
       "      <td>0.026423</td>\n",
       "      <td>0.052048</td>\n",
       "      <td>0.025751</td>\n",
       "      <td>0.013664</td>\n",
       "      <td>0.002228</td>\n",
       "      <td>0.013962</td>\n",
       "      <td>0.025462</td>\n",
       "      <td>0.006486</td>\n",
       "      <td>0.339474</td>\n",
       "      <td>0.251970</td>\n",
       "    </tr>\n",
       "    <tr>\n",
       "      <th>4</th>\n",
       "      <td>4</td>\n",
       "      <td>0.048855</td>\n",
       "      <td>0.021553</td>\n",
       "      <td>0.028368</td>\n",
       "      <td>0.044910</td>\n",
       "      <td>0.023554</td>\n",
       "      <td>0.033304</td>\n",
       "      <td>0.020745</td>\n",
       "      <td>0.028333</td>\n",
       "      <td>0.022154</td>\n",
       "      <td>0.050736</td>\n",
       "      <td>0.022810</td>\n",
       "      <td>0.014873</td>\n",
       "      <td>0.002996</td>\n",
       "      <td>0.011635</td>\n",
       "      <td>0.024614</td>\n",
       "      <td>0.014393</td>\n",
       "      <td>0.353071</td>\n",
       "      <td>0.233095</td>\n",
       "    </tr>\n",
       "  </tbody>\n",
       "</table>\n",
       "</div>"
      ],
      "text/plain": [
       "  model_index  snow depth  % below poverty  % civilian unemployed  \\\n",
       "0           0    0.024639         0.013803               0.051702   \n",
       "1           1    0.028372         0.012235               0.054203   \n",
       "2           2    0.021804         0.022529               0.042661   \n",
       "3           3    0.033417         0.018874               0.042560   \n",
       "4           4    0.048855         0.021553               0.028368   \n",
       "\n",
       "   % capita income  % no high school  % 65 older  % 17 younger  \\\n",
       "0         0.013589          0.031262    0.021775      0.025230   \n",
       "1         0.037277          0.015287    0.033815      0.024023   \n",
       "2         0.023111          0.028895    0.022575      0.030884   \n",
       "3         0.056637          0.025085    0.025075      0.022026   \n",
       "4         0.044910          0.023554    0.033304      0.020745   \n",
       "\n",
       "   % household disability  % single parent household  % minority  \\\n",
       "0                0.035325                   0.013596    0.011449   \n",
       "1                0.028019                   0.007463    0.017211   \n",
       "2                0.018162                   0.013939    0.013383   \n",
       "3                0.018858                   0.026423    0.052048   \n",
       "4                0.028333                   0.022154    0.050736   \n",
       "\n",
       "   % not well english  % multi unit  % mobile homes  % crowding  % no vehicle  \\\n",
       "0            0.005840      0.003662        0.244129    0.003041      0.020844   \n",
       "1            0.007487      0.006333        0.130940    0.011391      0.019245   \n",
       "2            0.006626      0.004036        0.116180    0.006657      0.009674   \n",
       "3            0.025751      0.013664        0.002228    0.013962      0.025462   \n",
       "4            0.022810      0.014873        0.002996    0.011635      0.024614   \n",
       "\n",
       "   % group quarters  historical requests  neighbor historical request  \n",
       "0          0.004406             0.281611                     0.194095  \n",
       "1          0.005361             0.306600                     0.254736  \n",
       "2          0.004737             0.348129                     0.266018  \n",
       "3          0.006486             0.339474                     0.251970  \n",
       "4          0.014393             0.353071                     0.233095  "
      ]
     },
     "execution_count": 7,
     "metadata": {},
     "output_type": "execute_result"
    }
   ],
   "source": [
    "# show the local feature importance\n",
    "print(df_feature_importance.shape)\n",
    "df_feature_importance.head()"
   ]
  },
  {
   "cell_type": "code",
   "execution_count": null,
   "id": "9652ef0b-0c6f-4370-b63d-aa2c72335ca0",
   "metadata": {},
   "outputs": [],
   "source": []
  }
 ],
 "metadata": {
  "kernelspec": {
   "display_name": "Python 3 (ipykernel)",
   "language": "python",
   "name": "python3"
  },
  "language_info": {
   "codemirror_mode": {
    "name": "ipython",
    "version": 3
   },
   "file_extension": ".py",
   "mimetype": "text/x-python",
   "name": "python",
   "nbconvert_exporter": "python",
   "pygments_lexer": "ipython3",
   "version": "3.8.19"
  }
 },
 "nbformat": 4,
 "nbformat_minor": 5
}
