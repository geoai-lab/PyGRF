{
 "cells": [
  {
   "cell_type": "code",
   "execution_count": 1,
   "id": "3999ed22-53b9-4e85-a1de-4c6614e3c666",
   "metadata": {},
   "outputs": [],
   "source": [
    "# Packages\n",
    "import pandas as pd\n",
    "from sklearn.model_selection import train_test_split, KFold\n",
    "from sklearn.metrics import mean_squared_error, r2_score\n",
    "\n",
    "import PyGRF"
   ]
  },
  {
   "cell_type": "markdown",
   "id": "36effa2f-6d86-4f92-91b5-5bbd86ae7fa3",
   "metadata": {},
   "source": [
    "### Read data and split into training and test sets"
   ]
  },
  {
   "cell_type": "code",
   "execution_count": 2,
   "id": "7257e1c3-f16b-4efe-8667-dc38ab10d8b4",
   "metadata": {},
   "outputs": [],
   "source": [
    "data_311 = pd.read_csv(\"../Data/311Request.csv\")\n",
    "y = data_311[[\"CBG ID\", \"311_requests\"]]\n",
    "X_train, X_test, y_train, y_test = train_test_split(data_311, y, test_size=0.3, random_state=42)"
   ]
  },
  {
   "cell_type": "markdown",
   "id": "b022547f-422a-49f0-a2fb-d7785a8a87cc",
   "metadata": {},
   "source": [
    "### Search the optimal bandwidth and local model weight using incremental spatial autocorrelation"
   ]
  },
  {
   "cell_type": "code",
   "execution_count": 3,
   "id": "98450159-da77-44f7-9b9e-51562e1b3f3d",
   "metadata": {},
   "outputs": [
    {
     "name": "stderr",
     "output_type": "stream",
     "text": [
      "C:\\software\\anaconda3\\envs\\Test\\lib\\site-packages\\PyGRF\\PyGRF.py:343: SettingWithCopyWarning: \n",
      "A value is trying to be set on a copy of a slice from a DataFrame.\n",
      "Try using .loc[row_indexer,col_indexer] = value instead\n",
      "\n",
      "See the caveats in the documentation: https://pandas.pydata.org/pandas-docs/stable/user_guide/indexing.html#returning-a-view-versus-a-copy\n",
      "  coords['coordinate'] = coords.apply(lambda row: tuple(row), axis=1)\n",
      "C:\\software\\anaconda3\\envs\\Test\\lib\\site-packages\\libpysal\\weights\\weights.py:224: UserWarning: The weights matrix is not fully connected: \n",
      " There are 59 disconnected components.\n",
      "  warnings.warn(message)\n"
     ]
    },
    {
     "name": "stdout",
     "output_type": "stream",
     "text": [
      "bandwidth: 131, moran's I: 0.04443162328339294, p-value: 5.56700472691986e-35\n"
     ]
    },
    {
     "name": "stderr",
     "output_type": "stream",
     "text": [
      "C:\\software\\anaconda3\\envs\\Test\\lib\\site-packages\\esda\\moran.py:233: RuntimeWarning: invalid value encountered in scalar power\n",
      "  self.seI_rand = VIR ** (1 / 2.0)\n"
     ]
    }
   ],
   "source": [
    "bandwidth, local_weight, p_value = PyGRF.search_bw_lw_ISA(X_train[\"311_requests\"], X_train[['Lon', 'Lat']])"
   ]
  },
  {
   "cell_type": "markdown",
   "id": "a23e0c42-4ae5-4a70-8a9c-9d89e94b90da",
   "metadata": {},
   "source": [
    "### Evaluate performance of PyGRF using 10-fold cross validation"
   ]
  },
  {
   "cell_type": "code",
   "execution_count": 4,
   "id": "aef363ae-601d-4099-a4f4-43252be4cedd",
   "metadata": {},
   "outputs": [],
   "source": [
    "# function for standarizing independent variables\n",
    "def standarize_data(data, stats):\n",
    "    return (data - stats['mean']) / stats['std']"
   ]
  },
  {
   "cell_type": "code",
   "execution_count": 5,
   "id": "6dae015d-1e7f-4368-87af-ec9f0b9fd6f6",
   "metadata": {},
   "outputs": [],
   "source": [
    "# get columns for only dependent variables\n",
    "columns_to_exclude = ['CBG ID', 'Lon', 'Lat', '311_requests']\n",
    "X_columns = [column for column in data_311.columns if column not in columns_to_exclude]\n",
    "\n",
    "y_predict = []\n",
    "y_true = []\n",
    "df_feature_importance = pd.DataFrame()\n",
    "\n",
    "K_fold = KFold(n_splits=10, shuffle=True, random_state=42)\n",
    "for train_index, test_index in K_fold.split(data_311):\n",
    "    # get the training and test data in each fold\n",
    "    X_train_all, X_test_all = data_311.iloc[train_index], data_311.iloc[test_index]\n",
    "    y_train, y_test = X_train_all['311_requests'], X_test_all['311_requests']\n",
    "    X_train = X_train_all[X_columns]\n",
    "    X_test = X_test_all[X_columns]\n",
    "    xy_coord = X_train_all[['Lon', 'Lat']]\n",
    "    coords_test = X_test_all[['Lon', 'Lat']]\n",
    "\n",
    "    # standarize independent variables\n",
    "    training_stat = X_train.describe().transpose()\n",
    "    X_scaled_train = standarize_data(X_train, training_stat)\n",
    "    X_scaled_test = standarize_data(X_test, training_stat)\n",
    "\n",
    "    # create a PyGRF model\n",
    "    pygrf_311 = PyGRF.PyGRFBuilder(n_estimators=60, max_features=1/3, band_width=131, train_weighted=True, predict_weighted=True, bootstrap=False,\n",
    "                          resampled=True, random_seed=42)\n",
    "\n",
    "    # fit the model and use it to make predictions\n",
    "    pygrf_311.fit(X_scaled_train, y_train, xy_coord)\n",
    "    predict_combined, predict_global, predict_local = pygrf_311.predict(X_scaled_test, coords_test, local_weight=0.0444)\n",
    "\n",
    "    # get the feature importance output by local models\n",
    "    local_feature_importance = pygrf_311.get_local_feature_importance()\n",
    "    df_feature_importance = pd.concat([df_feature_importance, local_feature_importance])\n",
    "\n",
    "    y_predict = y_predict + predict_combined\n",
    "    y_true = y_true + y_test.tolist()"
   ]
  },
  {
   "cell_type": "code",
   "execution_count": 19,
   "id": "c21581cc-8cfe-44de-9808-d9059e575aa4",
   "metadata": {},
   "outputs": [
    {
     "name": "stdout",
     "output_type": "stream",
     "text": [
      "rmse: 15.4855 r2: 0.4205\n"
     ]
    }
   ],
   "source": [
    "# compute the RMSE and r-square\n",
    "rmse = mean_squared_error(y_true, y_predict, squared=False)\n",
    "r2 = r2_score(y_true, y_predict)\n",
    "print(\"rmse: \" + str(round(rmse, 4)), \"r2: \" + str(round(r2, 4)))"
   ]
  },
  {
   "cell_type": "code",
   "execution_count": null,
   "id": "ad46377b-68e9-401c-b898-2b8ecb0f85f4",
   "metadata": {},
   "outputs": [],
   "source": [
    "# show the local feature importance\n",
    "print(df_feature_importance.shape)\n",
    "df_feature_importance.head()"
   ]
  }
 ],
 "metadata": {
  "kernelspec": {
   "display_name": "Python 3 (ipykernel)",
   "language": "python",
   "name": "python3"
  },
  "language_info": {
   "codemirror_mode": {
    "name": "ipython",
    "version": 3
   },
   "file_extension": ".py",
   "mimetype": "text/x-python",
   "name": "python",
   "nbconvert_exporter": "python",
   "pygments_lexer": "ipython3",
   "version": "3.8.19"
  }
 },
 "nbformat": 4,
 "nbformat_minor": 5
}
