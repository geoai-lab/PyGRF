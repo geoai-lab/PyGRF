{
 "cells": [
  {
   "cell_type": "code",
   "execution_count": 1,
   "id": "a78ca42b-fba3-4c4a-b437-2254de8b6542",
   "metadata": {},
   "outputs": [],
   "source": [
    "# Packages\n",
    "import pandas as pd\n",
    "from sklearn.model_selection import train_test_split, KFold\n",
    "from sklearn.metrics import mean_squared_error, r2_score\n",
    "\n",
    "import PyGRF"
   ]
  },
  {
   "cell_type": "markdown",
   "id": "b1bff4bd-15a0-471f-aeb5-ba55ba1cfb7e",
   "metadata": {},
   "source": [
    "### Read data and split into training and test sets"
   ]
  },
  {
   "cell_type": "code",
   "execution_count": 2,
   "id": "9c41f659-25ed-40db-9256-b3b89a43a504",
   "metadata": {},
   "outputs": [],
   "source": [
    "data_obesity = pd.read_csv(\"../Data/Income.csv\")\n",
    "y = data_obesity[[\"CodeELSTAT\", \"Income01\"]]\n",
    "X_train, X_test, y_train, y_test = train_test_split(data_obesity, y, test_size=0.3, random_state=42)"
   ]
  },
  {
   "cell_type": "markdown",
   "id": "849dc8ef-2d5b-4d38-a96e-63d1e737284c",
   "metadata": {},
   "source": [
    "### Search the optimal bandwidth and local model weight using incremental spatial autocorrelation"
   ]
  },
  {
   "cell_type": "code",
   "execution_count": 3,
   "id": "772b6699-411c-4796-b7b3-2d3684202fa1",
   "metadata": {},
   "outputs": [
    {
     "name": "stderr",
     "output_type": "stream",
     "text": [
      "C:\\Software\\anaconda3\\envs\\test\\lib\\site-packages\\libpysal\\weights\\weights.py:224: UserWarning: The weights matrix is not fully connected: \n",
      " There are 60 disconnected components.\n",
      "  warnings.warn(message)\n",
      "C:\\Software\\anaconda3\\envs\\test\\lib\\site-packages\\libpysal\\weights\\weights.py:224: UserWarning: The weights matrix is not fully connected: \n",
      " There are 3 disconnected components.\n",
      "  warnings.warn(message)\n"
     ]
    },
    {
     "name": "stdout",
     "output_type": "stream",
     "text": [
      "bandwidth: 39, moran's I: 0.46002225416187353, p-value: 5.07564088419884e-309\n"
     ]
    },
    {
     "name": "stderr",
     "output_type": "stream",
     "text": [
      "C:\\Software\\anaconda3\\envs\\test\\lib\\site-packages\\esda\\moran.py:220: RuntimeWarning: invalid value encountered in scalar power\n",
      "  self.seI_norm = self.VI_norm ** (1 / 2.0)\n",
      "C:\\Software\\anaconda3\\envs\\test\\lib\\site-packages\\esda\\moran.py:233: RuntimeWarning: invalid value encountered in scalar power\n",
      "  self.seI_rand = VIR ** (1 / 2.0)\n"
     ]
    }
   ],
   "source": [
    "bandwidth, local_weight, p_value = PyGRF.search_bw_lw_ISA(X_train[\"Income01\"], X_train[['X', 'Y']])"
   ]
  },
  {
   "cell_type": "markdown",
   "id": "e24e2e83-aa62-4dd9-9c32-f0e147913686",
   "metadata": {},
   "source": [
    "### Evaluate performance of PyGRF using 10-fold cross validation"
   ]
  },
  {
   "cell_type": "code",
   "execution_count": 3,
   "id": "56764177-598e-418c-8945-717c0e7cf148",
   "metadata": {},
   "outputs": [],
   "source": [
    "# function for standarizing independent variables\n",
    "def standarize_data(data, stats):\n",
    "    return (data - stats['mean']) / stats['std']"
   ]
  },
  {
   "cell_type": "code",
   "execution_count": 5,
   "id": "f883cf3a-33bf-41d8-a070-aa43b2bf133c",
   "metadata": {},
   "outputs": [],
   "source": [
    "import random\n",
    "import numpy as np\n",
    "\n",
    "# random_ints = random.sample(range(0, 325), 3)\n",
    "random_ints = [31, 114, 232]"
   ]
  },
  {
   "cell_type": "code",
   "execution_count": 6,
   "id": "d5a39547-1f0d-487c-b16d-8e8dc7d31d5a",
   "metadata": {},
   "outputs": [
    {
     "data": {
      "text/plain": [
       "(44233.010172, 49147.78908)"
      ]
     },
     "execution_count": 6,
     "metadata": {},
     "output_type": "execute_result"
    }
   ],
   "source": [
    "data_obesity[\"Income01\"].max()*1.8, data_obesity[\"Income01\"].max()*2"
   ]
  },
  {
   "cell_type": "code",
   "execution_count": 7,
   "id": "3a30fad3-287f-4579-b9ad-1c1badfe48e9",
   "metadata": {},
   "outputs": [
    {
     "data": {
      "text/plain": [
       "[46264.06456698524, 46075.732484091255, 49034.12179868823]"
      ]
     },
     "execution_count": 7,
     "metadata": {},
     "output_type": "execute_result"
    }
   ],
   "source": [
    "random_floats = random.sample([random.uniform(44233.010172, 49147.78908) for _ in range(100)], 3)\n",
    "random_floats"
   ]
  },
  {
   "cell_type": "code",
   "execution_count": 8,
   "id": "68eb79ee-71e1-4238-ad36-d8a1e360e44c",
   "metadata": {},
   "outputs": [],
   "source": [
    "data_obesity.loc[31, 'Income01'] = 48745.891862547745\n",
    "data_obesity.loc[114, 'Income01'] = 47823.18897984442\n",
    "data_obesity.loc[232, 'Income01'] = 45641.99986623569"
   ]
  },
  {
   "cell_type": "code",
   "execution_count": 9,
   "id": "1626b1ac-b65d-468c-9a24-31ca0aa18af4",
   "metadata": {},
   "outputs": [
    {
     "data": {
      "text/plain": [
       "CodeELSTAT    7.100000e+02\n",
       "X             4.132378e+05\n",
       "Y             4.500334e+06\n",
       "UnemrT01      7.190910e+00\n",
       "PrSect01      8.475790e-01\n",
       "Foreig01      6.626040e+00\n",
       "Income01      4.874589e+04\n",
       "Name: 31, dtype: float64"
      ]
     },
     "execution_count": 9,
     "metadata": {},
     "output_type": "execute_result"
    }
   ],
   "source": [
    "data_obesity.iloc[31]"
   ]
  },
  {
   "cell_type": "code",
   "execution_count": 12,
   "id": "3afaab2e-846a-4aca-93d3-e1aa886542fd",
   "metadata": {},
   "outputs": [
    {
     "name": "stdout",
     "output_type": "stream",
     "text": [
      "fold: 0\n",
      "fold: 1\n",
      "fold: 2\n",
      "fold: 3\n",
      "fold: 4\n",
      "fold: 5\n",
      "fold: 6\n",
      "fold: 7\n",
      "fold: 8\n",
      "fold: 9\n"
     ]
    }
   ],
   "source": [
    "# get columns for only dependent variables\n",
    "X_columns = ['UnemrT01', 'PrSect01', 'Foreig01']\n",
    "\n",
    "y_predict = []\n",
    "y_true = []\n",
    "df_local_fi = pd.DataFrame()\n",
    "df_global_fi = pd.DataFrame()\n",
    "\n",
    "K_fold = KFold(n_splits=10, shuffle=True, random_state=42)\n",
    "\n",
    "i = 0\n",
    "for train_index, test_index in K_fold.split(data_obesity):\n",
    "    print(\"fold:\", i)\n",
    "\n",
    "    # check outliers\n",
    "    for elem in random_ints:\n",
    "        if elem in test_index:\n",
    "            train_index = np.append(train_index, elem)\n",
    "            test_index = test_index[test_index != elem]\n",
    "    \n",
    "    # get the training and test data in each fold\n",
    "    X_train_all, X_test_all = data_obesity.iloc[train_index], data_obesity.iloc[test_index]\n",
    "    y_train, y_test = X_train_all['Income01'], X_test_all['Income01']\n",
    "    X_train = X_train_all[X_columns]\n",
    "    X_test = X_test_all[X_columns]\n",
    "    xy_coord = X_train_all[['X', 'Y']]\n",
    "    coords_test = X_test_all[['X', 'Y']]\n",
    "\n",
    "    # standarize independent variables\n",
    "    training_stat = X_train.describe().transpose()\n",
    "    X_scaled_train = standarize_data(X_train, training_stat)\n",
    "    X_scaled_test = standarize_data(X_test, training_stat)\n",
    "\n",
    "    # create a PyGRF model\n",
    "    pygrf = PyGRF.PyGRFBuilder(n_estimators=60, max_features=1, band_width=20, train_weighted=True, predict_weighted=False, bootstrap=False,\n",
    "                          resampled=True, random_state=42)\n",
    "\n",
    "    # fit the model and use it to make predictions\n",
    "    pygrf.fit(X_scaled_train, y_train, xy_coord)\n",
    "    predict_combined, predict_global, predict_local = pygrf.predict(X_scaled_test, coords_test, local_weight=1)\n",
    "\n",
    "    # get the feature importance output by local models\n",
    "    local_fi = pygrf.get_local_feature_importance()\n",
    "    df_local_fi = pd.concat([df_local_fi, local_fi])\n",
    "\n",
    "    # get the feature importance output by the global random forest model\n",
    "    global_fi = pygrf.global_model.feature_importances_\n",
    "    df_global_fi = pd.concat([df_global_fi, pd.DataFrame(data=global_fi.reshape(1, -1), columns=X_columns)])\n",
    "\n",
    "    y_predict = y_predict + predict_combined\n",
    "    y_true = y_true + y_test.tolist()\n",
    "\n",
    "    i = i + 1"
   ]
  },
  {
   "cell_type": "code",
   "execution_count": 13,
   "id": "5db44349-8a68-4fe2-abb9-71881a1ac8da",
   "metadata": {},
   "outputs": [
    {
     "name": "stdout",
     "output_type": "stream",
     "text": [
      "rmse: 2986.3871 r2: -0.024\n"
     ]
    }
   ],
   "source": [
    "# compute the RMSE and r-square\n",
    "rmse = mean_squared_error(y_true, y_predict, squared=False)\n",
    "r2 = r2_score(y_true, y_predict)\n",
    "print(\"rmse: \" + str(round(rmse, 4)), \"r2: \" + str(round(r2, 4)))"
   ]
  },
  {
   "cell_type": "code",
   "execution_count": 14,
   "id": "9e6e094b-aab5-415b-b49b-cce8baff80a2",
   "metadata": {},
   "outputs": [
    {
     "name": "stdout",
     "output_type": "stream",
     "text": [
      "Collecting seaborn\n",
      "  Downloading seaborn-0.13.2-py3-none-any.whl.metadata (5.4 kB)\n",
      "Requirement already satisfied: numpy!=1.24.0,>=1.20 in c:\\software\\anaconda3\\envs\\test\\lib\\site-packages (from seaborn) (1.24.4)\n",
      "Requirement already satisfied: pandas>=1.2 in c:\\software\\anaconda3\\envs\\test\\lib\\site-packages (from seaborn) (2.0.3)\n",
      "Collecting matplotlib!=3.6.1,>=3.4 (from seaborn)\n",
      "  Downloading matplotlib-3.7.5-cp38-cp38-win_amd64.whl.metadata (5.8 kB)\n",
      "Collecting contourpy>=1.0.1 (from matplotlib!=3.6.1,>=3.4->seaborn)\n",
      "  Downloading contourpy-1.1.1-cp38-cp38-win_amd64.whl.metadata (5.9 kB)\n",
      "Collecting cycler>=0.10 (from matplotlib!=3.6.1,>=3.4->seaborn)\n",
      "  Downloading cycler-0.12.1-py3-none-any.whl.metadata (3.8 kB)\n",
      "Collecting fonttools>=4.22.0 (from matplotlib!=3.6.1,>=3.4->seaborn)\n",
      "  Downloading fonttools-4.51.0-cp38-cp38-win_amd64.whl.metadata (162 kB)\n",
      "     ---------------------------------------- 0.0/162.8 kB ? eta -:--:--\n",
      "     -- ------------------------------------- 10.2/162.8 kB ? eta -:--:--\n",
      "     -------------- ------------------------ 61.4/162.8 kB 1.6 MB/s eta 0:00:01\n",
      "     -------------------------------------- 162.8/162.8 kB 2.4 MB/s eta 0:00:00\n",
      "Collecting kiwisolver>=1.0.1 (from matplotlib!=3.6.1,>=3.4->seaborn)\n",
      "  Downloading kiwisolver-1.4.5-cp38-cp38-win_amd64.whl.metadata (6.5 kB)\n",
      "Requirement already satisfied: packaging>=20.0 in c:\\software\\anaconda3\\envs\\test\\lib\\site-packages (from matplotlib!=3.6.1,>=3.4->seaborn) (24.0)\n",
      "Collecting pillow>=6.2.0 (from matplotlib!=3.6.1,>=3.4->seaborn)\n",
      "  Downloading pillow-10.3.0-cp38-cp38-win_amd64.whl.metadata (9.4 kB)\n",
      "Collecting pyparsing>=2.3.1 (from matplotlib!=3.6.1,>=3.4->seaborn)\n",
      "  Downloading pyparsing-3.1.2-py3-none-any.whl.metadata (5.1 kB)\n",
      "Requirement already satisfied: python-dateutil>=2.7 in c:\\software\\anaconda3\\envs\\test\\lib\\site-packages (from matplotlib!=3.6.1,>=3.4->seaborn) (2.9.0.post0)\n",
      "Requirement already satisfied: importlib-resources>=3.2.0 in c:\\software\\anaconda3\\envs\\test\\lib\\site-packages (from matplotlib!=3.6.1,>=3.4->seaborn) (6.4.0)\n",
      "Requirement already satisfied: pytz>=2020.1 in c:\\software\\anaconda3\\envs\\test\\lib\\site-packages (from pandas>=1.2->seaborn) (2024.1)\n",
      "Requirement already satisfied: tzdata>=2022.1 in c:\\software\\anaconda3\\envs\\test\\lib\\site-packages (from pandas>=1.2->seaborn) (2024.1)\n",
      "Requirement already satisfied: zipp>=3.1.0 in c:\\software\\anaconda3\\envs\\test\\lib\\site-packages (from importlib-resources>=3.2.0->matplotlib!=3.6.1,>=3.4->seaborn) (3.18.1)\n",
      "Requirement already satisfied: six>=1.5 in c:\\software\\anaconda3\\envs\\test\\lib\\site-packages (from python-dateutil>=2.7->matplotlib!=3.6.1,>=3.4->seaborn) (1.16.0)\n",
      "Downloading seaborn-0.13.2-py3-none-any.whl (294 kB)\n",
      "   ---------------------------------------- 0.0/294.9 kB ? eta -:--:--\n",
      "   -------------------------------------- - 286.7/294.9 kB 8.9 MB/s eta 0:00:01\n",
      "   ---------------------------------------- 294.9/294.9 kB 6.1 MB/s eta 0:00:00\n",
      "Downloading matplotlib-3.7.5-cp38-cp38-win_amd64.whl (7.5 MB)\n",
      "   ---------------------------------------- 0.0/7.5 MB ? eta -:--:--\n",
      "   ----- ---------------------------------- 1.1/7.5 MB 35.0 MB/s eta 0:00:01\n",
      "   ---------------- ----------------------- 3.0/7.5 MB 38.9 MB/s eta 0:00:01\n",
      "   --------------------------- ------------ 5.2/7.5 MB 41.2 MB/s eta 0:00:01\n",
      "   --------------------------- ------------ 5.2/7.5 MB 37.1 MB/s eta 0:00:01\n",
      "   ----------------------------------- ---- 6.6/7.5 MB 28.3 MB/s eta 0:00:01\n",
      "   ---------------------------------------- 7.5/7.5 MB 25.2 MB/s eta 0:00:00\n",
      "Downloading contourpy-1.1.1-cp38-cp38-win_amd64.whl (477 kB)\n",
      "   ---------------------------------------- 0.0/477.9 kB ? eta -:--:--\n",
      "   --------------------------------------- 477.9/477.9 kB 29.2 MB/s eta 0:00:00\n",
      "Downloading cycler-0.12.1-py3-none-any.whl (8.3 kB)\n",
      "Downloading fonttools-4.51.0-cp38-cp38-win_amd64.whl (1.5 MB)\n",
      "   ---------------------------------------- 0.0/1.5 MB ? eta -:--:--\n",
      "   ---------------------------------------- 1.5/1.5 MB 48.4 MB/s eta 0:00:00\n",
      "Downloading kiwisolver-1.4.5-cp38-cp38-win_amd64.whl (56 kB)\n",
      "   ---------------------------------------- 0.0/56.2 kB ? eta -:--:--\n",
      "   ---------------------------------------- 56.2/56.2 kB 2.9 MB/s eta 0:00:00\n",
      "Downloading pillow-10.3.0-cp38-cp38-win_amd64.whl (2.5 MB)\n",
      "   ---------------------------------------- 0.0/2.5 MB ? eta -:--:--\n",
      "   -------------- ------------------------- 0.9/2.5 MB 59.4 MB/s eta 0:00:01\n",
      "   ---------------------------------------- 2.5/2.5 MB 32.3 MB/s eta 0:00:00\n",
      "Downloading pyparsing-3.1.2-py3-none-any.whl (103 kB)\n",
      "   ---------------------------------------- 0.0/103.2 kB ? eta -:--:--\n",
      "   ---------------------------------------- 103.2/103.2 kB 5.8 MB/s eta 0:00:00\n",
      "Installing collected packages: pyparsing, pillow, kiwisolver, fonttools, cycler, contourpy, matplotlib, seaborn\n",
      "Successfully installed contourpy-1.1.1 cycler-0.12.1 fonttools-4.51.0 kiwisolver-1.4.5 matplotlib-3.7.5 pillow-10.3.0 pyparsing-3.1.2 seaborn-0.13.2\n"
     ]
    }
   ],
   "source": [
    "! pip install seaborn"
   ]
  },
  {
   "cell_type": "code",
   "execution_count": 15,
   "id": "aa79e1d0-dc2a-4dd3-9730-9702bc96184b",
   "metadata": {},
   "outputs": [
    {
     "data": {
      "image/png": "[encoded data removed]",
      "text/plain": [
       "<Figure size 600x600 with 1 Axes>"
      ]
     },
     "metadata": {},
     "output_type": "display_data"
    }
   ],
   "source": [
    "import seaborn as sns\n",
    "import matplotlib.pyplot as plt\n",
    "import numpy as np\n",
    "plt.figure(figsize=(6,6))\n",
    "sns.scatterplot(x=y_true, y=y_predict)\n",
    "plt.plot([5000, 35000], [5000, 35000], color='red', linestyle='--')\n",
    "plt.xticks([5000, 10000, 15000, 20000, 25000, 30000, 35000])\n",
    "plt.yticks([5000, 10000, 15000, 20000, 25000, 30000, 35000])\n",
    "plt.xlabel('y_true')\n",
    "plt.ylabel('y_predict')\n",
    "plt.title('Scatter Plot of y_true vs. y_predict')\n",
    "plt.savefig('scatter_plot_300dpi.png', dpi=300)\n",
    "plt.show()"
   ]
  },
  {
   "cell_type": "markdown",
   "id": "bbea2e69-4f5e-4dc7-bdb2-a22fec1e520e",
   "metadata": {},
   "source": [
    "### Examine the obtained feature importance"
   ]
  },
  {
   "cell_type": "code",
   "execution_count": null,
   "id": "4a0c4314-6386-4e59-8f8b-c102184e9f92",
   "metadata": {},
   "outputs": [],
   "source": [
    "# show the local feature importance\n",
    "print(df_local_fi.shape)\n",
    "df_local_fi.head()"
   ]
  },
  {
   "cell_type": "code",
   "execution_count": 6,
   "id": "ccbe0c7e-acaf-47a6-bdfd-a32271455015",
   "metadata": {},
   "outputs": [
    {
     "name": "stdout",
     "output_type": "stream",
     "text": [
      "(10, 3)\n"
     ]
    },
    {
     "data": {
      "text/html": [
       "<div>\n",
       "<style scoped>\n",
       "    .dataframe tbody tr th:only-of-type {\n",
       "        vertical-align: middle;\n",
       "    }\n",
       "\n",
       "    .dataframe tbody tr th {\n",
       "        vertical-align: top;\n",
       "    }\n",
       "\n",
       "    .dataframe thead th {\n",
       "        text-align: right;\n",
       "    }\n",
       "</style>\n",
       "<table border=\"1\" class=\"dataframe\">\n",
       "  <thead>\n",
       "    <tr style=\"text-align: right;\">\n",
       "      <th></th>\n",
       "      <th>UnemrT01</th>\n",
       "      <th>PrSect01</th>\n",
       "      <th>Foreig01</th>\n",
       "    </tr>\n",
       "  </thead>\n",
       "  <tbody>\n",
       "    <tr>\n",
       "      <th>0</th>\n",
       "      <td>0.236782</td>\n",
       "      <td>0.577236</td>\n",
       "      <td>0.185982</td>\n",
       "    </tr>\n",
       "    <tr>\n",
       "      <th>0</th>\n",
       "      <td>0.237711</td>\n",
       "      <td>0.586112</td>\n",
       "      <td>0.176177</td>\n",
       "    </tr>\n",
       "    <tr>\n",
       "      <th>0</th>\n",
       "      <td>0.226723</td>\n",
       "      <td>0.591093</td>\n",
       "      <td>0.182185</td>\n",
       "    </tr>\n",
       "    <tr>\n",
       "      <th>0</th>\n",
       "      <td>0.232569</td>\n",
       "      <td>0.588763</td>\n",
       "      <td>0.178669</td>\n",
       "    </tr>\n",
       "    <tr>\n",
       "      <th>0</th>\n",
       "      <td>0.236716</td>\n",
       "      <td>0.580253</td>\n",
       "      <td>0.183031</td>\n",
       "    </tr>\n",
       "  </tbody>\n",
       "</table>\n",
       "</div>"
      ],
      "text/plain": [
       "   UnemrT01  PrSect01  Foreig01\n",
       "0  0.236782  0.577236  0.185982\n",
       "0  0.237711  0.586112  0.176177\n",
       "0  0.226723  0.591093  0.182185\n",
       "0  0.232569  0.588763  0.178669\n",
       "0  0.236716  0.580253  0.183031"
      ]
     },
     "execution_count": 6,
     "metadata": {},
     "output_type": "execute_result"
    }
   ],
   "source": [
    "# show the global feature importance\n",
    "print(df_global_fi.shape)\n",
    "df_global_fi.head()"
   ]
  }
 ],
 "metadata": {
  "kernelspec": {
   "display_name": "Python 3 (ipykernel)",
   "language": "python",
   "name": "python3"
  },
  "language_info": {
   "codemirror_mode": {
    "name": "ipython",
    "version": 3
   },
   "file_extension": ".py",
   "mimetype": "text/x-python",
   "name": "python",
   "nbconvert_exporter": "python",
   "pygments_lexer": "ipython3",
   "version": "3.8.19"
  }
 },
 "nbformat": 4,
 "nbformat_minor": 5
}
