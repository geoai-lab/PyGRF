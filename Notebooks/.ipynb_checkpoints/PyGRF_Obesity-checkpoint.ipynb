{
 "cells": [
  {
   "cell_type": "code",
   "execution_count": 1,
   "id": "ff502529-4096-4464-93f2-ae054c54dcbd",
   "metadata": {},
   "outputs": [],
   "source": [
    "# Packages\n",
    "import pandas as pd\n",
    "from sklearn.model_selection import train_test_split, KFold\n",
    "from sklearn.metrics import mean_squared_error, r2_score\n",
    "\n",
    "import PyGRF"
   ]
  },
  {
   "cell_type": "markdown",
   "id": "4cec0cf9-febd-4cd8-ba9a-e32f33305a26",
   "metadata": {},
   "source": [
    "### Read data and split into training and test sets"
   ]
  },
  {
   "cell_type": "code",
   "execution_count": 2,
   "id": "53b9cd92-eefa-426a-9e34-61dc235dc918",
   "metadata": {},
   "outputs": [],
   "source": [
    "data_obesity = pd.read_csv(\"../Data/Obesity.csv\")\n",
    "y = data_obesity[[\"Census tract code\", \"obesity rate\"]]\n",
    "X_train, X_test, y_train, y_test = train_test_split(data_obesity, y, test_size=0.3, random_state=42)"
   ]
  },
  {
   "cell_type": "markdown",
   "id": "583bb5a3-ee05-42c8-87ba-f03e9cc69a9a",
   "metadata": {},
   "source": [
    "### Search the optimal bandwidth and local model weight using incremental spatial autocorrelation"
   ]
  },
  {
   "cell_type": "code",
   "execution_count": null,
   "id": "1dd2ec13-91e6-47bf-b82f-2c629d3548b9",
   "metadata": {},
   "outputs": [
    {
     "name": "stderr",
     "output_type": "stream",
     "text": [
      "C:\\software\\anaconda3\\envs\\Test\\lib\\site-packages\\PyGRF\\PyGRF.py:343: SettingWithCopyWarning: \n",
      "A value is trying to be set on a copy of a slice from a DataFrame.\n",
      "Try using .loc[row_indexer,col_indexer] = value instead\n",
      "\n",
      "See the caveats in the documentation: https://pandas.pydata.org/pandas-docs/stable/user_guide/indexing.html#returning-a-view-versus-a-copy\n",
      "  coords['coordinate'] = coords.apply(lambda row: tuple(row), axis=1)\n",
      "C:\\software\\anaconda3\\envs\\Test\\lib\\site-packages\\libpysal\\weights\\weights.py:224: UserWarning: The weights matrix is not fully connected: \n",
      " There are 410 disconnected components.\n",
      "  warnings.warn(message)\n",
      "C:\\software\\anaconda3\\envs\\Test\\lib\\site-packages\\libpysal\\weights\\weights.py:224: UserWarning: The weights matrix is not fully connected: \n",
      " There are 16 disconnected components.\n",
      "  warnings.warn(message)\n",
      "C:\\software\\anaconda3\\envs\\Test\\lib\\site-packages\\libpysal\\weights\\weights.py:224: UserWarning: The weights matrix is not fully connected: \n",
      " There are 4 disconnected components.\n",
      "  warnings.warn(message)\n",
      "C:\\software\\anaconda3\\envs\\Test\\lib\\site-packages\\libpysal\\weights\\weights.py:224: UserWarning: The weights matrix is not fully connected: \n",
      " There are 2 disconnected components.\n",
      "  warnings.warn(message)\n"
     ]
    }
   ],
   "source": [
    "bandwidth, local_weight, p_value = PyGRF.search_bw_lw_ISA(X_train[\"obesity rate\"], X_train[['Lon', 'Lat']])"
   ]
  },
  {
   "cell_type": "markdown",
   "id": "099a2c87-eabb-461e-bb0a-9f88a08ea59c",
   "metadata": {},
   "source": [
    "### Evaluate performance of PyGRF using 10-fold cross validation"
   ]
  },
  {
   "cell_type": "code",
   "execution_count": null,
   "id": "7422e41e-ea44-4fda-a958-2133ee7db5e0",
   "metadata": {},
   "outputs": [],
   "source": [
    "# function for standarizing independent variables\n",
    "def standarize_data(data, stats):\n",
    "    return (data - stats['mean']) / stats['std']"
   ]
  },
  {
   "cell_type": "code",
   "execution_count": null,
   "id": "45acdf29-64eb-457a-91d7-f8f33e05aea8",
   "metadata": {},
   "outputs": [],
   "source": [
    "# get columns for only dependent variables\n",
    "columns_to_exclude = ['Census tract code', 'Lon', 'Lat', 'obesity rate']\n",
    "X_columns = [column for column in data_obesity.columns if column not in columns_to_exclude]\n",
    "\n",
    "y_predict = []\n",
    "y_true = []\n",
    "df_feature_importance = pd.DataFrame()\n",
    "\n",
    "K_fold = KFold(n_splits=10, shuffle=True, random_state=42)\n",
    "for train_index, test_index in K_fold.split(data_obesity):\n",
    "    # get the training and test data in each fold\n",
    "    X_train_all, X_test_all = data_obesity.iloc[train_index], data_obesity.iloc[test_index]\n",
    "    y_train, y_test = X_train_all['obesity rate'], X_test_all['obesity rate']\n",
    "    X_train = X_train_all[X_columns]\n",
    "    X_test = X_test_all[X_columns]\n",
    "    xy_coord = X_train_all[['Lon', 'Lat']]\n",
    "    coords_test = X_test_all[['Lon', 'Lat']]\n",
    "\n",
    "    # standarize independent variables\n",
    "    training_stat = X_train.describe().transpose()\n",
    "    X_scaled_train = standarize_data(X_train, training_stat)\n",
    "    X_scaled_test = standarize_data(X_test, training_stat)\n",
    "\n",
    "    # create a PyGRF model\n",
    "    pygrf_obesity = PyGRF.PyGRFBuilder(n_estimators=400, max_features=1/3, band_width=152, train_weighted=True, predict_weighted=True, bootstrap=False,\n",
    "                          resampled=True, random_seed=42)\n",
    "\n",
    "    # fit the model and use it to make predictions\n",
    "    pygrf_obesity.fit(X_scaled_train, y_train, xy_coord)\n",
    "    predict_combined, predict_global, predict_local = pygrf_obesity.predict(X_scaled_test, coords_test, local_weight=0.4488)\n",
    "\n",
    "    # get the feature importance output by local models\n",
    "    local_feature_importance = pygrf_obesity.get_local_feature_importance()\n",
    "    df_feature_importance = pd.concat([df_feature_importance, local_feature_importance])\n",
    "\n",
    "    y_predict = y_predict + predict_combined\n",
    "    y_true = y_true + y_test.tolist()"
   ]
  },
  {
   "cell_type": "code",
   "execution_count": null,
   "id": "ef80d05c-bb1c-4cdc-baad-962359e87f1b",
   "metadata": {},
   "outputs": [],
   "source": [
    "# compute the RMSE and r-square\n",
    "rmse = mean_squared_error(y_true, y_predict, squared=False)\n",
    "r2 = r2_score(y_true, y_predict)\n",
    "print(\"rmse: \" + str(round(rmse, 4)), \"r2: \" + str(round(r2, 4)))"
   ]
  },
  {
   "cell_type": "code",
   "execution_count": null,
   "id": "38e2a541-2ac9-438c-9cad-50b31d3500a6",
   "metadata": {},
   "outputs": [],
   "source": [
    "# show the local feature importance\n",
    "print(df_feature_importance.shape)\n",
    "df_feature_importance.head()"
   ]
  }
 ],
 "metadata": {
  "kernelspec": {
   "display_name": "Python 3 (ipykernel)",
   "language": "python",
   "name": "python3"
  },
  "language_info": {
   "codemirror_mode": {
    "name": "ipython",
    "version": 3
   },
   "file_extension": ".py",
   "mimetype": "text/x-python",
   "name": "python",
   "nbconvert_exporter": "python",
   "pygments_lexer": "ipython3",
   "version": "3.8.19"
  }
 },
 "nbformat": 4,
 "nbformat_minor": 5
}
