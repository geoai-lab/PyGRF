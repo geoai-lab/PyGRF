{
 "cells": [
  {
   "cell_type": "code",
   "execution_count": 1,
   "id": "a78ca42b-fba3-4c4a-b437-2254de8b6542",
   "metadata": {},
   "outputs": [],
   "source": [
    "# Packages\n",
    "import pandas as pd\n",
    "from sklearn.model_selection import train_test_split, KFold\n",
    "from sklearn.metrics import mean_squared_error, r2_score\n",
    "\n",
    "import PyGRF"
   ]
  },
  {
   "cell_type": "markdown",
   "id": "b1bff4bd-15a0-471f-aeb5-ba55ba1cfb7e",
   "metadata": {},
   "source": [
    "### Read data and split into training and test sets"
   ]
  },
  {
   "cell_type": "code",
   "execution_count": 2,
   "id": "9c41f659-25ed-40db-9256-b3b89a43a504",
   "metadata": {},
   "outputs": [],
   "source": [
    "data_income = pd.read_csv(\"../Data/Income.csv\")\n",
    "y = data_income[[\"CodeELSTAT\", \"Income01\"]]\n",
    "X_train, X_test, y_train, y_test = train_test_split(data_income, y, test_size=0.3, random_state=42)"
   ]
  },
  {
   "cell_type": "markdown",
   "id": "849dc8ef-2d5b-4d38-a96e-63d1e737284c",
   "metadata": {},
   "source": [
    "### Search the optimal bandwidth and local model weight using incremental spatial autocorrelation"
   ]
  },
  {
   "cell_type": "code",
   "execution_count": 3,
   "id": "772b6699-411c-4796-b7b3-2d3684202fa1",
   "metadata": {},
   "outputs": [
    {
     "name": "stderr",
     "output_type": "stream",
     "text": [
      "C:\\software\\anaconda3\\envs\\test\\lib\\site-packages\\libpysal\\weights\\weights.py:224: UserWarning: The weights matrix is not fully connected: \n",
      " There are 60 disconnected components.\n",
      "  warnings.warn(message)\n",
      "C:\\software\\anaconda3\\envs\\test\\lib\\site-packages\\libpysal\\weights\\weights.py:224: UserWarning: The weights matrix is not fully connected: \n",
      " There are 3 disconnected components.\n",
      "  warnings.warn(message)\n"
     ]
    },
    {
     "name": "stdout",
     "output_type": "stream",
     "text": [
      "bandwidth: 39, moran's I: 0.46002225416187353, p-value: 5.07564088419884e-309\n"
     ]
    },
    {
     "name": "stderr",
     "output_type": "stream",
     "text": [
      "C:\\software\\anaconda3\\envs\\test\\lib\\site-packages\\esda\\moran.py:220: RuntimeWarning: invalid value encountered in scalar power\n",
      "  self.seI_norm = self.VI_norm ** (1 / 2.0)\n",
      "C:\\software\\anaconda3\\envs\\test\\lib\\site-packages\\esda\\moran.py:233: RuntimeWarning: invalid value encountered in scalar power\n",
      "  self.seI_rand = VIR ** (1 / 2.0)\n"
     ]
    }
   ],
   "source": [
    "bandwidth, local_weight, p_value = PyGRF.search_bw_lw_ISA(X_train[\"Income01\"], X_train[['X', 'Y']])"
   ]
  },
  {
   "cell_type": "markdown",
   "id": "e24e2e83-aa62-4dd9-9c32-f0e147913686",
   "metadata": {},
   "source": [
    "### Evaluate performance of PyGRF using 10-fold cross validation"
   ]
  },
  {
   "cell_type": "code",
   "execution_count": 4,
   "id": "56764177-598e-418c-8945-717c0e7cf148",
   "metadata": {},
   "outputs": [],
   "source": [
    "# function for standarizing independent variables\n",
    "def standarize_data(data, stats):\n",
    "    return (data - stats['mean']) / stats['std']"
   ]
  },
  {
   "cell_type": "code",
   "execution_count": 5,
   "id": "3afaab2e-846a-4aca-93d3-e1aa886542fd",
   "metadata": {},
   "outputs": [
    {
     "name": "stdout",
     "output_type": "stream",
     "text": [
      "fold: 0\n",
      "fold: 1\n",
      "fold: 2\n",
      "fold: 3\n",
      "fold: 4\n",
      "fold: 5\n",
      "fold: 6\n",
      "fold: 7\n",
      "fold: 8\n",
      "fold: 9\n"
     ]
    }
   ],
   "source": [
    "# get columns for only dependent variables\n",
    "X_columns = ['UnemrT01', 'PrSect01', 'Foreig01']\n",
    "\n",
    "y_predict = []\n",
    "y_true = []\n",
    "df_local_fi = pd.DataFrame()\n",
    "df_global_fi = pd.DataFrame()\n",
    "\n",
    "K_fold = KFold(n_splits=10, shuffle=True, random_state=42)\n",
    "\n",
    "i = 0\n",
    "for train_index, test_index in K_fold.split(data_income):\n",
    "    print(\"fold:\", i)\n",
    "    \n",
    "    # get the training and test data in each fold\n",
    "    X_train_all, X_test_all = data_income.iloc[train_index], data_income.iloc[test_index]\n",
    "    y_train, y_test = X_train_all['Income01'], X_test_all['Income01']\n",
    "    X_train = X_train_all[X_columns]\n",
    "    X_test = X_test_all[X_columns]\n",
    "    xy_coord = X_train_all[['X', 'Y']]\n",
    "    coords_test = X_test_all[['X', 'Y']]\n",
    "\n",
    "    # standarize independent variables\n",
    "    training_stat = X_train.describe().transpose()\n",
    "    X_scaled_train = standarize_data(X_train, training_stat)\n",
    "    X_scaled_test = standarize_data(X_test, training_stat)\n",
    "\n",
    "    # create a PyGRF model\n",
    "    pygrf = PyGRF.PyGRFBuilder(n_estimators=60, max_features=1, band_width=39, train_weighted=True, predict_weighted=True, bootstrap=False,\n",
    "                          resampled=True, random_state=42)\n",
    "\n",
    "    # fit the model and use it to make predictions\n",
    "    pygrf.fit(X_scaled_train, y_train, xy_coord)\n",
    "    predict_combined, predict_global, predict_local = pygrf.predict(X_scaled_test, coords_test, local_weight=0.46)\n",
    "\n",
    "    # get the feature importance output by local models\n",
    "    local_fi = pygrf.get_local_feature_importance()\n",
    "    df_local_fi = pd.concat([df_local_fi, local_fi])\n",
    "\n",
    "    # get the feature importance output by the global random forest model\n",
    "    global_fi = pygrf.global_model.feature_importances_\n",
    "    df_global_fi = pd.concat([df_global_fi, pd.DataFrame(data=global_fi.reshape(1, -1), columns=X_columns)])\n",
    "\n",
    "    y_predict = y_predict + predict_combined\n",
    "    y_true = y_true + y_test.tolist()\n",
    "\n",
    "    i = i + 1"
   ]
  },
  {
   "cell_type": "code",
   "execution_count": 6,
   "id": "5db44349-8a68-4fe2-abb9-71881a1ac8da",
   "metadata": {},
   "outputs": [
    {
     "name": "stdout",
     "output_type": "stream",
     "text": [
      "rmse: 1546.5187 r2: 0.7231\n"
     ]
    }
   ],
   "source": [
    "# compute the RMSE and r-square\n",
    "rmse = mean_squared_error(y_true, y_predict, squared=False)\n",
    "r2 = r2_score(y_true, y_predict)\n",
    "print(\"rmse: \" + str(round(rmse, 4)), \"r2: \" + str(round(r2, 4)))"
   ]
  },
  {
   "cell_type": "markdown",
   "id": "bbea2e69-4f5e-4dc7-bdb2-a22fec1e520e",
   "metadata": {},
   "source": [
    "### Examine the obtained feature importance"
   ]
  },
  {
   "cell_type": "code",
   "execution_count": 7,
   "id": "4a0c4314-6386-4e59-8f8b-c102184e9f92",
   "metadata": {},
   "outputs": [
    {
     "name": "stdout",
     "output_type": "stream",
     "text": [
      "(2925, 4)\n"
     ]
    },
    {
     "data": {
      "text/html": [
       "<div>\n",
       "<style scoped>\n",
       "    .dataframe tbody tr th:only-of-type {\n",
       "        vertical-align: middle;\n",
       "    }\n",
       "\n",
       "    .dataframe tbody tr th {\n",
       "        vertical-align: top;\n",
       "    }\n",
       "\n",
       "    .dataframe thead th {\n",
       "        text-align: right;\n",
       "    }\n",
       "</style>\n",
       "<table border=\"1\" class=\"dataframe\">\n",
       "  <thead>\n",
       "    <tr style=\"text-align: right;\">\n",
       "      <th></th>\n",
       "      <th>model_index</th>\n",
       "      <th>UnemrT01</th>\n",
       "      <th>PrSect01</th>\n",
       "      <th>Foreig01</th>\n",
       "    </tr>\n",
       "  </thead>\n",
       "  <tbody>\n",
       "    <tr>\n",
       "      <th>0</th>\n",
       "      <td>0</td>\n",
       "      <td>0.262599</td>\n",
       "      <td>0.503027</td>\n",
       "      <td>0.234374</td>\n",
       "    </tr>\n",
       "    <tr>\n",
       "      <th>1</th>\n",
       "      <td>1</td>\n",
       "      <td>0.247207</td>\n",
       "      <td>0.508400</td>\n",
       "      <td>0.244394</td>\n",
       "    </tr>\n",
       "    <tr>\n",
       "      <th>2</th>\n",
       "      <td>2</td>\n",
       "      <td>0.244848</td>\n",
       "      <td>0.500078</td>\n",
       "      <td>0.255075</td>\n",
       "    </tr>\n",
       "    <tr>\n",
       "      <th>3</th>\n",
       "      <td>3</td>\n",
       "      <td>0.218492</td>\n",
       "      <td>0.514029</td>\n",
       "      <td>0.267478</td>\n",
       "    </tr>\n",
       "    <tr>\n",
       "      <th>4</th>\n",
       "      <td>4</td>\n",
       "      <td>0.271027</td>\n",
       "      <td>0.524014</td>\n",
       "      <td>0.204960</td>\n",
       "    </tr>\n",
       "  </tbody>\n",
       "</table>\n",
       "</div>"
      ],
      "text/plain": [
       "  model_index  UnemrT01  PrSect01  Foreig01\n",
       "0           0  0.262599  0.503027  0.234374\n",
       "1           1  0.247207  0.508400  0.244394\n",
       "2           2  0.244848  0.500078  0.255075\n",
       "3           3  0.218492  0.514029  0.267478\n",
       "4           4  0.271027  0.524014  0.204960"
      ]
     },
     "execution_count": 7,
     "metadata": {},
     "output_type": "execute_result"
    }
   ],
   "source": [
    "# show the local feature importance\n",
    "print(df_local_fi.shape)\n",
    "df_local_fi.head()"
   ]
  },
  {
   "cell_type": "code",
   "execution_count": 8,
   "id": "ccbe0c7e-acaf-47a6-bdfd-a32271455015",
   "metadata": {},
   "outputs": [
    {
     "name": "stdout",
     "output_type": "stream",
     "text": [
      "(10, 3)\n"
     ]
    },
    {
     "data": {
      "text/html": [
       "<div>\n",
       "<style scoped>\n",
       "    .dataframe tbody tr th:only-of-type {\n",
       "        vertical-align: middle;\n",
       "    }\n",
       "\n",
       "    .dataframe tbody tr th {\n",
       "        vertical-align: top;\n",
       "    }\n",
       "\n",
       "    .dataframe thead th {\n",
       "        text-align: right;\n",
       "    }\n",
       "</style>\n",
       "<table border=\"1\" class=\"dataframe\">\n",
       "  <thead>\n",
       "    <tr style=\"text-align: right;\">\n",
       "      <th></th>\n",
       "      <th>UnemrT01</th>\n",
       "      <th>PrSect01</th>\n",
       "      <th>Foreig01</th>\n",
       "    </tr>\n",
       "  </thead>\n",
       "  <tbody>\n",
       "    <tr>\n",
       "      <th>0</th>\n",
       "      <td>0.236782</td>\n",
       "      <td>0.577236</td>\n",
       "      <td>0.185982</td>\n",
       "    </tr>\n",
       "    <tr>\n",
       "      <th>0</th>\n",
       "      <td>0.237711</td>\n",
       "      <td>0.586112</td>\n",
       "      <td>0.176177</td>\n",
       "    </tr>\n",
       "    <tr>\n",
       "      <th>0</th>\n",
       "      <td>0.226723</td>\n",
       "      <td>0.591093</td>\n",
       "      <td>0.182185</td>\n",
       "    </tr>\n",
       "    <tr>\n",
       "      <th>0</th>\n",
       "      <td>0.232569</td>\n",
       "      <td>0.588763</td>\n",
       "      <td>0.178669</td>\n",
       "    </tr>\n",
       "    <tr>\n",
       "      <th>0</th>\n",
       "      <td>0.236716</td>\n",
       "      <td>0.580253</td>\n",
       "      <td>0.183031</td>\n",
       "    </tr>\n",
       "  </tbody>\n",
       "</table>\n",
       "</div>"
      ],
      "text/plain": [
       "   UnemrT01  PrSect01  Foreig01\n",
       "0  0.236782  0.577236  0.185982\n",
       "0  0.237711  0.586112  0.176177\n",
       "0  0.226723  0.591093  0.182185\n",
       "0  0.232569  0.588763  0.178669\n",
       "0  0.236716  0.580253  0.183031"
      ]
     },
     "execution_count": 8,
     "metadata": {},
     "output_type": "execute_result"
    }
   ],
   "source": [
    "# show the global feature importance\n",
    "print(df_global_fi.shape)\n",
    "df_global_fi.head()"
   ]
  },
  {
   "cell_type": "markdown",
   "id": "67a4f935-b4cc-4b5b-82ea-0e18cb255abf",
   "metadata": {},
   "source": [
    "We used the example income dataset from the R package \"SpatialML\" developed by Georganos et al., 2019. We would like to express our gratitude to the authors of this work for generously providing this dataset."
   ]
  }
 ],
 "metadata": {
  "kernelspec": {
   "display_name": "Python 3 (ipykernel)",
   "language": "python",
   "name": "python3"
  },
  "language_info": {
   "codemirror_mode": {
    "name": "ipython",
    "version": 3
   },
   "file_extension": ".py",
   "mimetype": "text/x-python",
   "name": "python",
   "nbconvert_exporter": "python",
   "pygments_lexer": "ipython3",
   "version": "3.8.19"
  }
 },
 "nbformat": 4,
 "nbformat_minor": 5
}
